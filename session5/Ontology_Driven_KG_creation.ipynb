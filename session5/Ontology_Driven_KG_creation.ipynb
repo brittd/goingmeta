{
  "cells": [
    {
      "cell_type": "markdown",
      "metadata": {
        "colab_type": "text",
        "id": "view-in-github"
      },
      "source": [
        "<a href=\"https://colab.research.google.com/github/jbarrasa/goingmeta/blob/main/session5/Ontology_Driven_KG_creation.ipynb\" target=\"_parent\"><img src=\"https://colab.research.google.com/assets/colab-badge.svg\" alt=\"Open In Colab\"/></a>"
      ]
    },
    {
      "cell_type": "code",
      "execution_count": 166,
      "metadata": {
        "id": "uhuV0UJzbekv"
      },
      "outputs": [
        {
          "name": "stdout",
          "output_type": "stream",
          "text": [
            "Requirement already satisfied: rdflib in c:\\users\\britt\\appdata\\local\\programs\\python\\python39\\lib\\site-packages (7.0.0)Note: you may need to restart the kernel to use updated packages.\n"
          ]
        },
        {
          "name": "stderr",
          "output_type": "stream",
          "text": [
            "\n",
            "[notice] A new release of pip is available: 23.1.1 -> 24.2\n",
            "[notice] To update, run: python.exe -m pip install --upgrade pip\n"
          ]
        },
        {
          "name": "stdout",
          "output_type": "stream",
          "text": [
            "\n",
            "Requirement already satisfied: neo4j in c:\\users\\britt\\appdata\\local\\programs\\python\\python39\\lib\\site-packages (5.24.0)\n",
            "Requirement already satisfied: pandas in c:\\users\\britt\\appdata\\local\\programs\\python\\python39\\lib\\site-packages (2.2.3)\n",
            "Requirement already satisfied: isodate<0.7.0,>=0.6.0 in c:\\users\\britt\\appdata\\local\\programs\\python\\python39\\lib\\site-packages (from rdflib) (0.6.1)\n",
            "Requirement already satisfied: pyparsing<4,>=2.1.0 in c:\\users\\britt\\appdata\\local\\programs\\python\\python39\\lib\\site-packages (from rdflib) (3.1.4)\n",
            "Requirement already satisfied: pytz in c:\\users\\britt\\appdata\\local\\programs\\python\\python39\\lib\\site-packages (from neo4j) (2024.2)\n",
            "Requirement already satisfied: numpy>=1.22.4 in c:\\users\\britt\\appdata\\local\\programs\\python\\python39\\lib\\site-packages (from pandas) (1.24.2)\n",
            "Requirement already satisfied: python-dateutil>=2.8.2 in c:\\users\\britt\\appdata\\roaming\\python\\python39\\site-packages (from pandas) (2.9.0.post0)\n",
            "Requirement already satisfied: tzdata>=2022.7 in c:\\users\\britt\\appdata\\local\\programs\\python\\python39\\lib\\site-packages (from pandas) (2024.2)\n",
            "Requirement already satisfied: six in c:\\users\\britt\\appdata\\roaming\\python\\python39\\site-packages (from isodate<0.7.0,>=0.6.0->rdflib) (1.16.0)\n"
          ]
        }
      ],
      "source": [
        "pip install rdflib neo4j pandas"
      ]
    },
    {
      "cell_type": "code",
      "execution_count": 167,
      "metadata": {
        "id": "qf3yMwgyVg05"
      },
      "outputs": [],
      "source": [
        "import rdflib, time\n",
        "import pathlib\n",
        "import pandas as pd\n",
        "\n",
        "from neo4j import GraphDatabase, basic_auth"
      ]
    },
    {
      "cell_type": "code",
      "execution_count": 168,
      "metadata": {},
      "outputs": [
        {
          "name": "stdout",
          "output_type": "stream",
          "text": [
            "Britt settings:\n",
            "S:\\Users\\Britt\\Documents\\Visual_Studio_GitHub\\Visual_Studio_Code_Python\\GoingMeta\\session5\\data\n",
            "S:/Users/Britt/Documents/Visual_Studio_GitHub/Visual_Studio_Code_Python/GoingMeta/session5/ontos/rail.ttl\n"
          ]
        }
      ],
      "source": [
        "print(\"Britt settings:\")\n",
        "data_dir=\"https://raw.githubusercontent.com/jbarrasa/goingmeta/main/session5/data/\"\n",
        "data_dir=r\"S:\\Users\\Britt\\Documents\\Visual_Studio_GitHub\\Visual_Studio_Code_Python\\GoingMeta\\session5\\data\" + r\"\\\\\"\n",
        "#print(data_dir)\n",
        "print(pathlib.Path(data_dir))\n",
        "\n",
        "onto = \"https://raw.githubusercontent.com/jbarrasa/goingmeta/main/session5/ontos/rail.ttl\"\n",
        "onto = \"S:/Users/Britt/Documents/Visual_Studio_GitHub/Visual_Studio_Code_Python/GoingMeta/session5/ontos/rail.ttl\"\n",
        "print(onto)"
      ]
    },
    {
      "cell_type": "code",
      "execution_count": 169,
      "metadata": {
        "id": "eRYK8Uvk67jQ"
      },
      "outputs": [
        {
          "name": "stdout",
          "output_type": "stream",
          "text": [
            "Verify rdf ontology functions getLocalPart and getNamespacePart\n",
            "Station\n",
            "http://onto.neo4j.com/rail#\n"
          ]
        }
      ],
      "source": [
        "#utility function to get the local part of a URI (stripping out the namespace)\n",
        "print(\"Verify rdf ontology functions getLocalPart and getNamespacePart\")\n",
        "\n",
        "def getLocalPart(uri):\n",
        "  pos = -1\n",
        "  pos = uri.rfind('#') \n",
        "  if pos < 0 :\n",
        "    pos = uri.rfind('/')  \n",
        "  if pos < 0 :\n",
        "    pos = uri.rindex(':')\n",
        "  return uri[pos+1:]\n",
        "\n",
        "def getNamespacePart(uri):\n",
        "  pos = -1\n",
        "  pos = uri.rfind('#') \n",
        "  if pos < 0 :\n",
        "    pos = uri.rfind('/')  \n",
        "  if pos < 0 :\n",
        "    pos = uri.rindex(':')\n",
        "  return uri[0:pos+1]\n",
        "\n",
        "# quick test\n",
        "print(getLocalPart(\"http://onto.neo4j.com/rail#Station\"))\n",
        "print(getNamespacePart(\"http://onto.neo4j.com/rail#Station\"))"
      ]
    },
    {
      "cell_type": "code",
      "execution_count": 170,
      "metadata": {
        "id": "I_oshqtSP_fe"
      },
      "outputs": [
        {
          "name": "stdout",
          "output_type": "stream",
          "text": [
            "Create graph from rdf ontology\n",
            "S:/Users/Britt/Documents/Visual_Studio_GitHub/Visual_Studio_Code_Python/GoingMeta/session5/ontos/rail.ttl\n",
            "\n",
            "Query graph for all owl:Class\n",
            "http://onto.neo4j.com/rail#Event Event http://onto.neo4j.com/rail#\n",
            "http://onto.neo4j.com/rail#Station Station http://onto.neo4j.com/rail#\n",
            "\n",
            "Query graph for all owl:ObjectProperty\n",
            "http://onto.neo4j.com/rail#affects affects http://onto.neo4j.com/rail#\n",
            "http://onto.neo4j.com/rail#link link http://onto.neo4j.com/rail#\n"
          ]
        }
      ],
      "source": [
        "# processing the ontology...\n",
        "print(\"Create graph from rdf ontology\")\n",
        "print(onto)\n",
        "\n",
        "graph_onto = rdflib.Graph()\n",
        "graph_onto.parse(onto, format='turtle')\n",
        "\n",
        "graph_query_classes = \"\"\"\n",
        "prefix owl: <http://www.w3.org/2002/07/owl#> \n",
        "prefix rdf: <http://www.w3.org/1999/02/22-rdf-syntax-ns#> \n",
        "SELECT DISTINCT ?c\n",
        "  WHERE {\n",
        "    ?c rdf:type owl:Class .    \n",
        "  } \"\"\"\n",
        "print(\"\\nQuery graph for all owl:Class\")\n",
        "for row in graph_onto.query(graph_query_classes):\n",
        "    print(str(row.c), getLocalPart(str(row.c)), getNamespacePart(str(row.c)))\n",
        "\n",
        "graph_query_properties = \"\"\"\n",
        "prefix owl: <http://www.w3.org/2002/07/owl#> \n",
        "prefix rdf: <http://www.w3.org/1999/02/22-rdf-syntax-ns#> \n",
        "SELECT DISTINCT ?c\n",
        "  WHERE {\n",
        "    ?c rdf:type owl:ObjectProperty .    \n",
        "  } \"\"\"\n",
        "print(\"\\nQuery graph for all owl:ObjectProperty\")\n",
        "for row in graph_onto.query(graph_query_properties):\n",
        "    print(str(row.c), getLocalPart(str(row.c)), getNamespacePart(str(row.c)))\n"
      ]
    },
    {
      "cell_type": "code",
      "execution_count": 171,
      "metadata": {
        "id": "5jtsSEJnbtVq"
      },
      "outputs": [
        {
          "name": "stdout",
          "output_type": "stream",
          "text": [
            "Generate cypher query from ontology (without mappings)\n",
            "\n",
            "List of generated cypher queries\n",
            "\n",
            "unwind $records AS record \n",
            "merge (n:Event { `<id_prop>`: record.`<col with id>`} ) \n",
            "set n.eventDescription = record.`<col with value for eventDescription>` \n",
            "set n.eventId = record.`<col with value for eventId>` \n",
            "set n.eventType = record.`<col with value for eventType>` \n",
            "return count(*) as total\n",
            "\n",
            "unwind $records AS record \n",
            "merge (n:Station { `<id_prop>`: record.`<col with id>`} ) \n",
            "set n.lat = record.`<col with value for lat>` \n",
            "set n.long = record.`<col with value for long>` \n",
            "set n.stationAddress = record.`<col with value for stationAddress>` \n",
            "set n.stationCode = record.`<col with value for stationCode>` \n",
            "set n.stationName = record.`<col with value for stationName>` \n",
            "return count(*) as total\n",
            "\n",
            "unwind $records AS record \n",
            "match (source:Event { `<id_prop>`: record.`<col with source id>`} ) \n",
            "match (target:Station { `<id_prop>`: record.`<col with target id>`} ) \n",
            "merge (source)-[r:`affects`]->(target) \n",
            "return count(*) as total\n",
            "\n",
            "unwind $records AS record \n",
            "match (source:Station { `<id_prop>`: record.`<col with source id>`} ) \n",
            "match (target:Station { `<id_prop>`: record.`<col with target id>`} ) \n",
            "merge (source)-[r:`link`]->(target) \n",
            "return count(*) as total\n"
          ]
        }
      ],
      "source": [
        "# read the onto and generate cypher (complete without mappings)\n",
        "print(\"Generate cypher query from ontology (without mappings)\")\n",
        "\n",
        "classes_and_props_query = \"\"\"\n",
        "prefix owl: <http://www.w3.org/2002/07/owl#> \n",
        "prefix rdf: <http://www.w3.org/1999/02/22-rdf-syntax-ns#> \n",
        "\n",
        "SELECT DISTINCT ?curi (GROUP_CONCAT(DISTINCT ?propTypePair ; SEPARATOR=\",\") AS ?props)\n",
        "WHERE {\n",
        "    ?curi rdf:type owl:Class .\n",
        "    optional { \n",
        "      ?prop rdfs:domain ?curi ;\n",
        "        a owl:DatatypeProperty ;\n",
        "        rdfs:range ?range .\n",
        "      BIND (concat(str(?prop),';',str(?range)) AS ?propTypePair)\n",
        "    }\n",
        "  } GROUP BY ?curi  \"\"\"\n",
        "\n",
        "cypher_list = []\n",
        "\n",
        "for row in graph_onto.query(classes_and_props_query):\n",
        "    cypher = []\n",
        "    cypher.append(\"unwind $records AS record\")\n",
        "    cypher.append(\"merge (n:\" + getLocalPart(row.curi) + \" { `<id_prop>`: record.`<col with id>`} )\")\n",
        "    for pair in row.props.split(\",\"):\n",
        "      propName = pair.split(\";\")[0]\n",
        "      propType = pair.split(\";\")[1]\n",
        "      cypher.append(\"set n.\" + getLocalPart(propName) + \" = record.`<col with value for \" + getLocalPart(propName) + \">`\")\n",
        "    cypher.append(\"return count(*) as total\") \n",
        "    cypher_list.append(' \\n'.join(cypher))\n",
        "\n",
        "\n",
        "rels_query = \"\"\"\n",
        "prefix owl: <http://www.w3.org/2002/07/owl#> \n",
        "prefix rdf: <http://www.w3.org/1999/02/22-rdf-syntax-ns#> \n",
        "\n",
        "SELECT DISTINCT ?rel ?dom ?ran #(GROUP_CONCAT(DISTINCT ?relTriplet ; SEPARATOR=\",\") AS ?rels)\n",
        "WHERE {\n",
        "    ?rel a ?propertyClass .\n",
        "    filter(?propertyClass in (rdf:Property, owl:ObjectProperty, owl:FunctionalProperty, owl:AsymmetricProperty, \n",
        "           owl:InverseFunctionalProperty, owl:IrreflexiveProperty, owl:ReflexiveProperty, owl:SymmetricProperty, owl:TransitiveProperty))\n",
        "    \n",
        "    ?rel rdfs:domain ?dom ;\n",
        "      rdfs:range ?ran .\n",
        "    \n",
        "    #BIND (concat(str(?rel),';',str(?dom),';',str(?range)) AS ?relTriplet)\n",
        "    \n",
        "  }\"\"\"\n",
        "\n",
        "\n",
        "for row in graph_onto.query(rels_query):\n",
        "  cypher = []\n",
        "  cypher.append(\"unwind $records AS record\")\n",
        "  cypher.append(\"match (source:\" + getLocalPart(row.dom) + \" { `<id_prop>`: record.`<col with source id>`} )\")\n",
        "  cypher.append(\"match (target:\" + getLocalPart(row.ran) + \" { `<id_prop>`: record.`<col with target id>`} )\")\n",
        "  cypher.append(\"merge (source)-[r:`\"+ getLocalPart(row.rel) +\"`]->(target)\")\n",
        "  cypher.append(\"return count(*) as total\") \n",
        "  cypher_list.append(' \\n'.join(cypher))\n",
        "\n",
        "print(\"\\nList of generated cypher queries\")\n",
        "for q in cypher_list:\n",
        "  print(\"\\n\" + q)\n"
      ]
    },
    {
      "cell_type": "code",
      "execution_count": 172,
      "metadata": {
        "id": "F4GP70jAf8v2"
      },
      "outputs": [
        {
          "name": "stdout",
          "output_type": "stream",
          "text": [
            "Define mappings: rail, station, event, link, affects\n",
            "S:\\Users\\Britt\\Documents\\Visual_Studio_GitHub\\Visual_Studio_Code_Python\\GoingMeta\\session5\\data\\nr-stations-all.csv\n",
            "\n",
            "Example mappings: railMappings\n"
          ]
        },
        {
          "data": {
            "text/plain": [
              "{'Station': {'@fileName': 'S:\\\\Users\\\\Britt\\\\Documents\\\\Visual_Studio_GitHub\\\\Visual_Studio_Code_Python\\\\GoingMeta\\\\session5\\\\data\\\\\\\\nr-stations-all.csv',\n",
              "  '@uniqueId': 'stationCode',\n",
              "  'lat': 'lat',\n",
              "  'long': 'long',\n",
              "  'stationAddress': 'address',\n",
              "  'stationCode': 'crs',\n",
              "  'stationName': 'name'},\n",
              " 'Event': {'@fileName': 'S:\\\\Users\\\\Britt\\\\Documents\\\\Visual_Studio_GitHub\\\\Visual_Studio_Code_Python\\\\GoingMeta\\\\session5\\\\data\\\\\\\\nr-events.csv',\n",
              "  '@uniqueId': 'eventId',\n",
              "  'eventDescription': 'desc',\n",
              "  'eventId': 'id',\n",
              "  'timestamp': 'ts',\n",
              "  'eventType': 'type'},\n",
              " 'link': {'@fileName': 'S:\\\\Users\\\\Britt\\\\Documents\\\\Visual_Studio_GitHub\\\\Visual_Studio_Code_Python\\\\GoingMeta\\\\session5\\\\data\\\\\\\\nr-station-links.csv',\n",
              "  '@from': 'origin',\n",
              "  '@to': 'destination'},\n",
              " 'affects': {'@fileName': 'S:\\\\Users\\\\Britt\\\\Documents\\\\Visual_Studio_GitHub\\\\Visual_Studio_Code_Python\\\\GoingMeta\\\\session5\\\\data\\\\\\\\nr-events.csv',\n",
              "  '@from': 'id',\n",
              "  '@to': 'Station'}}"
            ]
          },
          "execution_count": 172,
          "metadata": {},
          "output_type": "execute_result"
        }
      ],
      "source": [
        "print(\"Define mappings: rail, station, event, link, affects\")\n",
        "\n",
        "railMappings = {}\n",
        "stationMapping = {}\n",
        "eventMapping = {}\n",
        "linkMapping = {}\n",
        "affectsMapping = {}\n",
        "\n",
        "print(pathlib.Path(data_dir + \"nr-stations-all.csv\"))\n",
        "\n",
        "stationMapping[\"@fileName\"] = data_dir + \"nr-stations-all.csv\"\n",
        "stationMapping[\"@uniqueId\"] = \"stationCode\"\n",
        "stationMapping[\"lat\"] = \"lat\"\n",
        "stationMapping[\"long\"] = \"long\"\n",
        "stationMapping[\"stationAddress\"] = \"address\"\n",
        "stationMapping[\"stationCode\"] = \"crs\"\n",
        "stationMapping[\"stationName\"] = \"name\"\n",
        "railMappings[\"Station\"] = stationMapping\n",
        "\n",
        "eventMapping[\"@fileName\"] = data_dir + \"nr-events.csv\"\n",
        "eventMapping[\"@uniqueId\"] = \"eventId\"\n",
        "eventMapping[\"eventDescription\"] = \"desc\"\n",
        "eventMapping[\"eventId\"] = \"id\"\n",
        "eventMapping[\"timestamp\"] = \"ts\"\n",
        "eventMapping[\"eventType\"] = \"type\"\n",
        "railMappings[\"Event\"] = eventMapping\n",
        "\n",
        "linkMapping[\"@fileName\"] = data_dir + \"nr-station-links.csv\"\n",
        "linkMapping[\"@from\"] = \"origin\"\n",
        "linkMapping[\"@to\"] = \"destination\"\n",
        "railMappings[\"link\"] = linkMapping\n",
        "\n",
        "affectsMapping[\"@fileName\"] = data_dir + \"nr-events.csv\"\n",
        "affectsMapping[\"@from\"] = \"id\"\n",
        "affectsMapping[\"@to\"] = \"Station\"\n",
        "railMappings[\"affects\"] = affectsMapping\n",
        "\n",
        "# show it?\n",
        "print(\"\\nExample mappings: railMappings\")\n",
        "railMappings"
      ]
    },
    {
      "cell_type": "code",
      "execution_count": 173,
      "metadata": {
        "id": "Ouw2B3BmHhn5"
      },
      "outputs": [
        {
          "name": "stdout",
          "output_type": "stream",
          "text": [
            "Define getLoadersFromOnto to repeat process with mappings\n"
          ]
        }
      ],
      "source": [
        "#copy of previous but using the mappings\n",
        "print(\"Define getLoadersFromOnto to repeat process with mappings\")\n",
        "\n",
        "def getLoadersFromOnto(onto, rdf_format, mappings):\n",
        "  graph_onto_mapped = rdflib.Graph()\n",
        "  graph_onto_mapped.parse(onto, format= rdf_format)\n",
        "\n",
        "  classes_and_props_query = \"\"\"\n",
        "  prefix owl: <http://www.w3.org/2002/07/owl#> \n",
        "  prefix rdf: <http://www.w3.org/1999/02/22-rdf-syntax-ns#> \n",
        "\n",
        "  SELECT DISTINCT ?curi (GROUP_CONCAT(DISTINCT ?propTypePair ; SEPARATOR=\",\") AS ?props)\n",
        "  WHERE {\n",
        "      ?curi rdf:type owl:Class .\n",
        "      optional { \n",
        "        ?prop rdfs:domain ?curi ;\n",
        "          a owl:DatatypeProperty ;\n",
        "          rdfs:range ?range .\n",
        "        BIND (concat(str(?prop),';',str(?range)) AS ?propTypePair)\n",
        "      }\n",
        "    } GROUP BY ?curi  \"\"\"\n",
        "\n",
        "  cypher_import = {}\n",
        "  export_ns = set()\n",
        "  export_mappings = {}\n",
        "\n",
        "  for row in graph_onto_mapped.query(classes_and_props_query):\n",
        "      export_ns.add(getNamespacePart(row.curi))\n",
        "      export_mappings[getLocalPart(row.curi)] = str(row.curi)\n",
        "      cypher = []\n",
        "      cypher.append(\"unwind $records AS record\")\n",
        "      cypher.append(\"merge (n:\" + getLocalPart(row.curi) + \" { `\" + mappings[getLocalPart(row.curi)][\"@uniqueId\"] + \"`: record.`\" + mappings[getLocalPart(row.curi)][mappings[getLocalPart(row.curi)][\"@uniqueId\"]] + \"`} )\")\n",
        "      for pair in row.props.split(\",\"):      \n",
        "        propName = pair.split(\";\")[0]\n",
        "        propType = pair.split(\";\")[1]\n",
        "        export_ns.add(getNamespacePart(propName))\n",
        "        export_mappings[getLocalPart(propName)] = propName\n",
        "        #if a mapping (a column in the source file) is defined for the property and property is not a unique id\n",
        "        if getLocalPart(propName) in mappings[getLocalPart(row.curi)] and getLocalPart(propName) != mappings[getLocalPart(row.curi)][\"@uniqueId\"]:\n",
        "          cypher.append(\"set n.\" + getLocalPart(propName) + \" = record.`\" + mappings[getLocalPart(row.curi)][getLocalPart(propName)] + \"`\")\n",
        "      cypher.append(\"return count(*) as total\") \n",
        "      cypher_import[getLocalPart(row.curi)] = ' \\n'.join(cypher)\n",
        "\n",
        "\n",
        "  rels_query = \"\"\"\n",
        "  prefix owl: <http://www.w3.org/2002/07/owl#> \n",
        "  prefix rdf: <http://www.w3.org/1999/02/22-rdf-syntax-ns#> \n",
        "\n",
        "  SELECT DISTINCT ?rel ?dom ?ran #(GROUP_CONCAT(DISTINCT ?relTriplet ; SEPARATOR=\",\") AS ?rels)\n",
        "  WHERE {\n",
        "      ?rel a ?propertyClass .\n",
        "      filter(?propertyClass in (rdf:Property, owl:ObjectProperty, owl:FunctionalProperty, owl:AsymmetricProperty, \n",
        "            owl:InverseFunctionalProperty, owl:IrreflexiveProperty, owl:ReflexiveProperty, owl:SymmetricProperty, owl:TransitiveProperty))\n",
        "      \n",
        "      ?rel rdfs:domain ?dom ;\n",
        "        rdfs:range ?ran .\n",
        "      \n",
        "      #BIND (concat(str(?rel),';',str(?dom),';',str(?range)) AS ?relTriplet)\n",
        "      \n",
        "    }\"\"\"\n",
        "\n",
        "  for row in graph_onto_mapped.query(rels_query):\n",
        "    export_ns.add(getNamespacePart(row.rel))\n",
        "    export_mappings[getLocalPart(row.rel)] = str(row.rel)\n",
        "    cypher = []\n",
        "    cypher.append(\"unwind $records AS record\")\n",
        "    cypher.append(\"match (source:\" + getLocalPart(row.dom) + \" { `\" + mappings[getLocalPart(row.dom)][\"@uniqueId\"] + \"`: record.`\" + mappings[getLocalPart(row.rel)][\"@from\"] + \"`} )\")\n",
        "    cypher.append(\"match (target:\" + getLocalPart(row.ran) + \" { `\" + mappings[getLocalPart(row.ran)][\"@uniqueId\"] + \"`: record.`\" + mappings[getLocalPart(row.rel)][\"@to\"] + \"`} )\")\n",
        "    cypher.append(\"merge (source)-[r:`\"+ getLocalPart(row.rel) +\"`]->(target)\")\n",
        "    cypher.append(\"return count(*) as total\") \n",
        "    cypher_import[getLocalPart(row.rel)] = ' \\n'.join(cypher)\n",
        "\n",
        "\n",
        "  nscount = 0\n",
        "  mapping_export_cypher = []\n",
        "  \n",
        "  for ns in export_ns:\n",
        "    mapping_export_cypher.append(\"call n10s.nsprefixes.add('ns\" + str(nscount) + \"','\" + ns + \"');\")\n",
        "    nscount+=1\n",
        "\n",
        "  for k in export_mappings.keys():\n",
        "    mapping_export_cypher.append(\"call n10s.mapping.add('\" + export_mappings[k] + \"','\" + k + \"');\")\n",
        "\n",
        "  return cypher_import ,  mapping_export_cypher\n",
        "\n",
        "\n"
      ]
    },
    {
      "cell_type": "code",
      "execution_count": 174,
      "metadata": {
        "id": "tVikXP3oTs9K"
      },
      "outputs": [
        {
          "name": "stdout",
          "output_type": "stream",
          "text": [
            "Run getLoadersFromOnto\n",
            "using ontology S:/Users/Britt/Documents/Visual_Studio_GitHub/Visual_Studio_Code_Python/GoingMeta/session5/ontos/rail.ttl\n",
            "#LOADERS:\n",
            "\n",
            "Event: \n",
            "\n",
            "file: S:\\Users\\Britt\\Documents\\Visual_Studio_GitHub\\Visual_Studio_Code_Python\\GoingMeta\\session5\\data\\\\nr-events.csv\n",
            "\n",
            "unwind $records AS record \n",
            "merge (n:Event { `eventId`: record.`id`} ) \n",
            "set n.eventDescription = record.`desc` \n",
            "set n.eventType = record.`type` \n",
            "return count(*) as total\n",
            "\n",
            "\n",
            "Station: \n",
            "\n",
            "file: S:\\Users\\Britt\\Documents\\Visual_Studio_GitHub\\Visual_Studio_Code_Python\\GoingMeta\\session5\\data\\\\nr-stations-all.csv\n",
            "\n",
            "unwind $records AS record \n",
            "merge (n:Station { `stationCode`: record.`crs`} ) \n",
            "set n.lat = record.`lat` \n",
            "set n.long = record.`long` \n",
            "set n.stationAddress = record.`address` \n",
            "set n.stationName = record.`name` \n",
            "return count(*) as total\n",
            "\n",
            "\n",
            "affects: \n",
            "\n",
            "file: S:\\Users\\Britt\\Documents\\Visual_Studio_GitHub\\Visual_Studio_Code_Python\\GoingMeta\\session5\\data\\\\nr-events.csv\n",
            "\n",
            "unwind $records AS record \n",
            "match (source:Event { `eventId`: record.`id`} ) \n",
            "match (target:Station { `stationCode`: record.`Station`} ) \n",
            "merge (source)-[r:`affects`]->(target) \n",
            "return count(*) as total\n",
            "\n",
            "\n",
            "link: \n",
            "\n",
            "file: S:\\Users\\Britt\\Documents\\Visual_Studio_GitHub\\Visual_Studio_Code_Python\\GoingMeta\\session5\\data\\\\nr-station-links.csv\n",
            "\n",
            "unwind $records AS record \n",
            "match (source:Station { `stationCode`: record.`origin`} ) \n",
            "match (target:Station { `stationCode`: record.`destination`} ) \n",
            "merge (source)-[r:`link`]->(target) \n",
            "return count(*) as total\n",
            "\n",
            "\n",
            "#EXPORT MAPPINGS (for RDF API):\n",
            "\n",
            "call n10s.nsprefixes.add('ns0','http://onto.neo4j.com/rail#');\n",
            "call n10s.mapping.add('http://onto.neo4j.com/rail#Event','Event');\n",
            "call n10s.mapping.add('http://onto.neo4j.com/rail#eventDescription','eventDescription');\n",
            "call n10s.mapping.add('http://onto.neo4j.com/rail#eventId','eventId');\n",
            "call n10s.mapping.add('http://onto.neo4j.com/rail#eventType','eventType');\n",
            "call n10s.mapping.add('http://onto.neo4j.com/rail#Station','Station');\n",
            "call n10s.mapping.add('http://onto.neo4j.com/rail#lat','lat');\n",
            "call n10s.mapping.add('http://onto.neo4j.com/rail#long','long');\n",
            "call n10s.mapping.add('http://onto.neo4j.com/rail#stationAddress','stationAddress');\n",
            "call n10s.mapping.add('http://onto.neo4j.com/rail#stationCode','stationCode');\n",
            "call n10s.mapping.add('http://onto.neo4j.com/rail#stationName','stationName');\n",
            "call n10s.mapping.add('http://onto.neo4j.com/rail#affects','affects');\n",
            "call n10s.mapping.add('http://onto.neo4j.com/rail#link','link');\n"
          ]
        }
      ],
      "source": [
        "print(\"Run getLoadersFromOnto\")\n",
        "print(\"using ontology \" + onto)\n",
        "cypher_import , mapping_defs = getLoadersFromOnto(onto,\"turtle\",railMappings)\n",
        "\n",
        "print(\"#LOADERS:\\n\")\n",
        "for q in cypher_import.keys():\n",
        "  print(q + \": \\n\\nfile: \" + railMappings[q][\"@fileName\"] + \"\\n\\n\"+ cypher_import[q] + \"\\n\\n\")\n",
        "\n",
        "print(\"#EXPORT MAPPINGS (for RDF API):\\n\")\n",
        "for md in mapping_defs:\n",
        "  print(md)"
      ]
    },
    {
      "cell_type": "code",
      "execution_count": 175,
      "metadata": {
        "id": "ztPHkOD8KNx3"
      },
      "outputs": [
        {
          "name": "stdout",
          "output_type": "stream",
          "text": [
            "Define insert_data to batch insert to the graph\n"
          ]
        }
      ],
      "source": [
        "# Utility function to write to Neo4j in batch mode.\n",
        "print(\"Define insert_data to batch insert to the graph\")\n",
        "\n",
        "def insert_data(session, query, frame, batch_size = 500):\n",
        "\n",
        "    total = 0\n",
        "    batch = 0\n",
        "    start = time.time()\n",
        "    result = None\n",
        "    \n",
        "    while batch * batch_size < len(frame):\n",
        "        res = session.write_transaction( lambda tx: tx.run(query,\n",
        "                      parameters = {'records': frame[batch*batch_size:(batch+1)*batch_size].to_dict('records')}).data())\n",
        "\n",
        "        total += res[0]['total']\n",
        "        batch += 1\n",
        "        result = {\"total\":total, \n",
        "                  \"batches\":batch, \n",
        "                  \"time\":time.time()-start}\n",
        "        print(result)\n",
        "        \n",
        "    return result"
      ]
    },
    {
      "cell_type": "markdown",
      "metadata": {},
      "source": [
        "This section is for Britt's CSU DevTest code"
      ]
    },
    {
      "cell_type": "code",
      "execution_count": 191,
      "metadata": {},
      "outputs": [
        {
          "name": "stdout",
          "output_type": "stream",
          "text": [
            "DevTest code\n",
            "Trying to connect to my free neo4j Aura instance: Britt/CSU\n",
            "neo4j+s://5ba77883.databases.neo4j.io\n",
            "True\n",
            "None\n",
            "None\n",
            "None\n",
            "Created driver session\n"
          ]
        }
      ],
      "source": [
        "print(\"DevTest code\")\n",
        "\n",
        "print(\"Trying to connect to my free neo4j Aura instance: Britt/CSU\")\n",
        "neo4j_db_uri=\"neo4j+s://5ba77883.databases.neo4j.io\"\n",
        "print(neo4j_db_uri)\n",
        "\n",
        "# driver = GraphDatabase.driver(\n",
        "#   \"bolt://3.84.57.61:7687\",\n",
        "#   auth=basic_auth(\"neo4j\", \"south-kettles-harmony\"))\n",
        "driver = GraphDatabase.driver(\n",
        "  neo4j_db_uri,\n",
        "  auth=basic_auth(\"neo4j\", \"QWWDLjevJTXdWnmZqjXJFENM6_4k660WxN3aqr2SLSg\"))\n",
        "\n",
        "print(driver.verify_authentication())\n",
        "print(driver.verify_connectivity())\n",
        "\n",
        "\n",
        "session = driver.session(database=\"CSU_01\")\n",
        "print(driver.verify_connectivity())\n",
        "session = driver.session(database=\"5ba77883\")\n",
        "print(driver.verify_connectivity())\n",
        "\n",
        "print(\"Created driver session\")\n",
        "\n",
        "# print(\"Results from previous getLoadersFromOnto\")\n",
        "# print(\"#LOADERS:\\n\")\n",
        "# for q in cypher_import.keys():\n",
        "#   print(q + \": \\n\\nfile: \" + railMappings[q][\"@fileName\"] + \"\\n\\n\"+ cypher_import[q] + \"\\n\\n\")\n",
        "\n",
        "# print(\"#EXPORT MAPPINGS (for RDF API):\\n\")\n",
        "# for md in mapping_defs:\n",
        "#   print(md)\n"
      ]
    },
    {
      "cell_type": "code",
      "execution_count": 182,
      "metadata": {},
      "outputs": [
        {
          "name": "stdout",
          "output_type": "stream",
          "text": [
            "about to import Event from file S:\\Users\\Britt\\Documents\\Visual_Studio_GitHub\\Visual_Studio_Code_Python\\GoingMeta\\session5\\data\\\\nr-events.csv\n"
          ]
        },
        {
          "name": "stderr",
          "output_type": "stream",
          "text": [
            "C:\\Users\\Britt\\AppData\\Local\\Temp\\ipykernel_11744\\2252819377.py:12: DeprecationWarning: write_transaction has been renamed to execute_write\n",
            "  res = session.write_transaction( lambda tx: tx.run(query,\n"
          ]
        },
        {
          "ename": "ClientError",
          "evalue": "{code: Neo.ClientError.Database.DatabaseNotFound} {message: Unable to get a routing table for database '5ba77883' because this database does not exist}",
          "output_type": "error",
          "traceback": [
            "\u001b[1;31m---------------------------------------------------------------------------\u001b[0m",
            "\u001b[1;31mClientError\u001b[0m                               Traceback (most recent call last)",
            "Cell \u001b[1;32mIn[182], line 4\u001b[0m\n\u001b[0;32m      2\u001b[0m \u001b[38;5;28mprint\u001b[39m(\u001b[38;5;124m\"\u001b[39m\u001b[38;5;124mabout to import \u001b[39m\u001b[38;5;124m\"\u001b[39m \u001b[38;5;241m+\u001b[39m q \u001b[38;5;241m+\u001b[39m \u001b[38;5;124m\"\u001b[39m\u001b[38;5;124m from file \u001b[39m\u001b[38;5;124m\"\u001b[39m \u001b[38;5;241m+\u001b[39m railMappings[q][\u001b[38;5;124m\"\u001b[39m\u001b[38;5;124m@fileName\u001b[39m\u001b[38;5;124m\"\u001b[39m])\n\u001b[0;32m      3\u001b[0m df \u001b[38;5;241m=\u001b[39m pd\u001b[38;5;241m.\u001b[39mread_csv(railMappings[q][\u001b[38;5;124m\"\u001b[39m\u001b[38;5;124m@fileName\u001b[39m\u001b[38;5;124m\"\u001b[39m])\n\u001b[1;32m----> 4\u001b[0m result \u001b[38;5;241m=\u001b[39m \u001b[43minsert_data\u001b[49m\u001b[43m(\u001b[49m\u001b[43msession\u001b[49m\u001b[43m,\u001b[49m\u001b[43m \u001b[49m\u001b[43mcypher_import\u001b[49m\u001b[43m[\u001b[49m\u001b[43mq\u001b[49m\u001b[43m]\u001b[49m\u001b[43m,\u001b[49m\u001b[43m \u001b[49m\u001b[43mdf\u001b[49m\u001b[43m,\u001b[49m\u001b[43m \u001b[49m\u001b[43mbatch_size\u001b[49m\u001b[43m \u001b[49m\u001b[38;5;241;43m=\u001b[39;49m\u001b[43m \u001b[49m\u001b[38;5;241;43m300\u001b[39;49m\u001b[43m)\u001b[49m \n\u001b[0;32m      5\u001b[0m \u001b[38;5;28mprint\u001b[39m(result)\n\u001b[0;32m      8\u001b[0m \u001b[38;5;66;03m#load csv from 'file:///artists.csv' AS row\u001b[39;00m\n\u001b[0;32m      9\u001b[0m \u001b[38;5;66;03m#LOAD CSV from railMappings[q][\"@fileName\"] AS row\u001b[39;00m\n\u001b[0;32m     10\u001b[0m \n\u001b[0;32m     11\u001b[0m \n\u001b[0;32m     12\u001b[0m \u001b[38;5;66;03m#print(\"How do you create a data_frame from a .csv file?\")\u001b[39;00m\n\u001b[0;32m     13\u001b[0m \u001b[38;5;66;03m#insert_data(session, cypher_import[q], data_frame, batch_size=300)\u001b[39;00m\n",
            "Cell \u001b[1;32mIn[175], line 12\u001b[0m, in \u001b[0;36minsert_data\u001b[1;34m(session, query, frame, batch_size)\u001b[0m\n\u001b[0;32m      9\u001b[0m result \u001b[38;5;241m=\u001b[39m \u001b[38;5;28;01mNone\u001b[39;00m\n\u001b[0;32m     11\u001b[0m \u001b[38;5;28;01mwhile\u001b[39;00m batch \u001b[38;5;241m*\u001b[39m batch_size \u001b[38;5;241m<\u001b[39m \u001b[38;5;28mlen\u001b[39m(frame):\n\u001b[1;32m---> 12\u001b[0m     res \u001b[38;5;241m=\u001b[39m \u001b[43msession\u001b[49m\u001b[38;5;241;43m.\u001b[39;49m\u001b[43mwrite_transaction\u001b[49m\u001b[43m(\u001b[49m\u001b[43m \u001b[49m\u001b[38;5;28;43;01mlambda\u001b[39;49;00m\u001b[43m \u001b[49m\u001b[43mtx\u001b[49m\u001b[43m:\u001b[49m\u001b[43m \u001b[49m\u001b[43mtx\u001b[49m\u001b[38;5;241;43m.\u001b[39;49m\u001b[43mrun\u001b[49m\u001b[43m(\u001b[49m\u001b[43mquery\u001b[49m\u001b[43m,\u001b[49m\n\u001b[0;32m     13\u001b[0m \u001b[43m                  \u001b[49m\u001b[43mparameters\u001b[49m\u001b[43m \u001b[49m\u001b[38;5;241;43m=\u001b[39;49m\u001b[43m \u001b[49m\u001b[43m{\u001b[49m\u001b[38;5;124;43m'\u001b[39;49m\u001b[38;5;124;43mrecords\u001b[39;49m\u001b[38;5;124;43m'\u001b[39;49m\u001b[43m:\u001b[49m\u001b[43m \u001b[49m\u001b[43mframe\u001b[49m\u001b[43m[\u001b[49m\u001b[43mbatch\u001b[49m\u001b[38;5;241;43m*\u001b[39;49m\u001b[43mbatch_size\u001b[49m\u001b[43m:\u001b[49m\u001b[43m(\u001b[49m\u001b[43mbatch\u001b[49m\u001b[38;5;241;43m+\u001b[39;49m\u001b[38;5;241;43m1\u001b[39;49m\u001b[43m)\u001b[49m\u001b[38;5;241;43m*\u001b[39;49m\u001b[43mbatch_size\u001b[49m\u001b[43m]\u001b[49m\u001b[38;5;241;43m.\u001b[39;49m\u001b[43mto_dict\u001b[49m\u001b[43m(\u001b[49m\u001b[38;5;124;43m'\u001b[39;49m\u001b[38;5;124;43mrecords\u001b[39;49m\u001b[38;5;124;43m'\u001b[39;49m\u001b[43m)\u001b[49m\u001b[43m}\u001b[49m\u001b[43m)\u001b[49m\u001b[38;5;241;43m.\u001b[39;49m\u001b[43mdata\u001b[49m\u001b[43m(\u001b[49m\u001b[43m)\u001b[49m\u001b[43m)\u001b[49m\n\u001b[0;32m     15\u001b[0m     total \u001b[38;5;241m+\u001b[39m\u001b[38;5;241m=\u001b[39m res[\u001b[38;5;241m0\u001b[39m][\u001b[38;5;124m'\u001b[39m\u001b[38;5;124mtotal\u001b[39m\u001b[38;5;124m'\u001b[39m]\n\u001b[0;32m     16\u001b[0m     batch \u001b[38;5;241m+\u001b[39m\u001b[38;5;241m=\u001b[39m \u001b[38;5;241m1\u001b[39m\n",
            "File \u001b[1;32mc:\\Users\\Britt\\AppData\\Local\\Programs\\Python\\Python39\\lib\\site-packages\\neo4j\\_meta.py:224\u001b[0m, in \u001b[0;36m_make_warning_decorator.<locals>.decorator.<locals>.inner\u001b[1;34m(*args, **kwargs)\u001b[0m\n\u001b[0;32m    221\u001b[0m \u001b[38;5;129m@wraps\u001b[39m(f)\n\u001b[0;32m    222\u001b[0m \u001b[38;5;28;01mdef\u001b[39;00m \u001b[38;5;21minner\u001b[39m(\u001b[38;5;241m*\u001b[39margs, \u001b[38;5;241m*\u001b[39m\u001b[38;5;241m*\u001b[39mkwargs):\n\u001b[0;32m    223\u001b[0m     warning_func(message, stack_level\u001b[38;5;241m=\u001b[39m\u001b[38;5;241m2\u001b[39m)\n\u001b[1;32m--> 224\u001b[0m     \u001b[38;5;28;01mreturn\u001b[39;00m f(\u001b[38;5;241m*\u001b[39margs, \u001b[38;5;241m*\u001b[39m\u001b[38;5;241m*\u001b[39mkwargs)\n",
            "File \u001b[1;32mc:\\Users\\Britt\\AppData\\Local\\Programs\\Python\\Python39\\lib\\site-packages\\neo4j\\_sync\\work\\session.py:799\u001b[0m, in \u001b[0;36mSession.write_transaction\u001b[1;34m(self, transaction_function, *args, **kwargs)\u001b[0m\n\u001b[0;32m    765\u001b[0m \u001b[38;5;129m@deprecated\u001b[39m(\u001b[38;5;124m\"\u001b[39m\u001b[38;5;124mwrite_transaction has been renamed to execute_write\u001b[39m\u001b[38;5;124m\"\u001b[39m)\n\u001b[0;32m    766\u001b[0m \u001b[38;5;129m@NonConcurrentMethodChecker\u001b[39m\u001b[38;5;241m.\u001b[39mnon_concurrent_method\n\u001b[0;32m    767\u001b[0m \u001b[38;5;28;01mdef\u001b[39;00m \u001b[38;5;21mwrite_transaction\u001b[39m(\n\u001b[1;32m   (...)\u001b[0m\n\u001b[0;32m    772\u001b[0m     \u001b[38;5;241m*\u001b[39margs: _P\u001b[38;5;241m.\u001b[39margs,  \u001b[38;5;241m*\u001b[39m\u001b[38;5;241m*\u001b[39mkwargs: _P\u001b[38;5;241m.\u001b[39mkwargs\n\u001b[0;32m    773\u001b[0m ) \u001b[38;5;241m-\u001b[39m\u001b[38;5;241m>\u001b[39m _R:\n\u001b[0;32m    774\u001b[0m \u001b[38;5;250m    \u001b[39m\u001b[38;5;124;03m\"\"\"Execute a unit of work in a managed write transaction.\u001b[39;00m\n\u001b[0;32m    775\u001b[0m \n\u001b[0;32m    776\u001b[0m \u001b[38;5;124;03m    .. note::\u001b[39;00m\n\u001b[1;32m   (...)\u001b[0m\n\u001b[0;32m    797\u001b[0m \u001b[38;5;124;03m        Method was renamed to :meth:`.execute_write`.\u001b[39;00m\n\u001b[0;32m    798\u001b[0m \u001b[38;5;124;03m    \"\"\"\u001b[39;00m\n\u001b[1;32m--> 799\u001b[0m     \u001b[38;5;28;01mreturn\u001b[39;00m \u001b[38;5;28;43mself\u001b[39;49m\u001b[38;5;241;43m.\u001b[39;49m\u001b[43m_run_transaction\u001b[49m\u001b[43m(\u001b[49m\n\u001b[0;32m    800\u001b[0m \u001b[43m        \u001b[49m\u001b[43mWRITE_ACCESS\u001b[49m\u001b[43m,\u001b[49m\u001b[43m \u001b[49m\u001b[43mTelemetryAPI\u001b[49m\u001b[38;5;241;43m.\u001b[39;49m\u001b[43mTX_FUNC\u001b[49m\u001b[43m,\u001b[49m\n\u001b[0;32m    801\u001b[0m \u001b[43m        \u001b[49m\u001b[43mtransaction_function\u001b[49m\u001b[43m,\u001b[49m\u001b[43m \u001b[49m\u001b[43margs\u001b[49m\u001b[43m,\u001b[49m\u001b[43m \u001b[49m\u001b[43mkwargs\u001b[49m\n\u001b[0;32m    802\u001b[0m \u001b[43m    \u001b[49m\u001b[43m)\u001b[49m\n",
            "File \u001b[1;32mc:\\Users\\Britt\\AppData\\Local\\Programs\\Python\\Python39\\lib\\site-packages\\neo4j\\_sync\\work\\session.py:545\u001b[0m, in \u001b[0;36mSession._run_transaction\u001b[1;34m(self, access_mode, api, transaction_function, args, kwargs)\u001b[0m\n\u001b[0;32m    543\u001b[0m \u001b[38;5;28;01mwhile\u001b[39;00m \u001b[38;5;28;01mTrue\u001b[39;00m:\n\u001b[0;32m    544\u001b[0m     \u001b[38;5;28;01mtry\u001b[39;00m:\n\u001b[1;32m--> 545\u001b[0m         \u001b[38;5;28;43mself\u001b[39;49m\u001b[38;5;241;43m.\u001b[39;49m\u001b[43m_open_transaction\u001b[49m\u001b[43m(\u001b[49m\n\u001b[0;32m    546\u001b[0m \u001b[43m            \u001b[49m\u001b[43mtx_cls\u001b[49m\u001b[38;5;241;43m=\u001b[39;49m\u001b[43mManagedTransaction\u001b[49m\u001b[43m,\u001b[49m\n\u001b[0;32m    547\u001b[0m \u001b[43m            \u001b[49m\u001b[43mapi\u001b[49m\u001b[38;5;241;43m=\u001b[39;49m\u001b[38;5;28;43;01mNone\u001b[39;49;00m\u001b[43m \u001b[49m\u001b[38;5;28;43;01mif\u001b[39;49;00m\u001b[43m \u001b[49m\u001b[43mtelemetry_sent\u001b[49m\u001b[43m \u001b[49m\u001b[38;5;28;43;01melse\u001b[39;49;00m\u001b[43m \u001b[49m\u001b[43mapi\u001b[49m\u001b[43m,\u001b[49m\n\u001b[0;32m    548\u001b[0m \u001b[43m            \u001b[49m\u001b[43maccess_mode\u001b[49m\u001b[38;5;241;43m=\u001b[39;49m\u001b[43maccess_mode\u001b[49m\u001b[43m,\u001b[49m\u001b[43m \u001b[49m\u001b[43mmetadata\u001b[49m\u001b[38;5;241;43m=\u001b[39;49m\u001b[43mmetadata\u001b[49m\u001b[43m,\u001b[49m\n\u001b[0;32m    549\u001b[0m \u001b[43m            \u001b[49m\u001b[43mtimeout\u001b[49m\u001b[38;5;241;43m=\u001b[39;49m\u001b[43mtimeout\u001b[49m\u001b[43m,\u001b[49m\u001b[43m \u001b[49m\u001b[43mapi_success_cb\u001b[49m\u001b[38;5;241;43m=\u001b[39;49m\u001b[43mapi_success_cb\u001b[49m\u001b[43m,\u001b[49m\n\u001b[0;32m    550\u001b[0m \u001b[43m        \u001b[49m\u001b[43m)\u001b[49m\n\u001b[0;32m    551\u001b[0m         \u001b[38;5;28;01massert\u001b[39;00m \u001b[38;5;28misinstance\u001b[39m(\u001b[38;5;28mself\u001b[39m\u001b[38;5;241m.\u001b[39m_transaction, ManagedTransaction)\n\u001b[0;32m    552\u001b[0m         tx \u001b[38;5;241m=\u001b[39m \u001b[38;5;28mself\u001b[39m\u001b[38;5;241m.\u001b[39m_transaction\n",
            "File \u001b[1;32mc:\\Users\\Britt\\AppData\\Local\\Programs\\Python\\Python39\\lib\\site-packages\\neo4j\\_sync\\work\\session.py:424\u001b[0m, in \u001b[0;36mSession._open_transaction\u001b[1;34m(self, tx_cls, access_mode, api, metadata, timeout, api_success_cb)\u001b[0m\n\u001b[0;32m    413\u001b[0m \u001b[38;5;28;01mdef\u001b[39;00m \u001b[38;5;21m_open_transaction\u001b[39m(\n\u001b[0;32m    414\u001b[0m     \u001b[38;5;28mself\u001b[39m,\n\u001b[0;32m    415\u001b[0m     \u001b[38;5;241m*\u001b[39m,\n\u001b[1;32m   (...)\u001b[0m\n\u001b[0;32m    422\u001b[0m     api_success_cb: t\u001b[38;5;241m.\u001b[39mOptional[t\u001b[38;5;241m.\u001b[39mCallable[[\u001b[38;5;28mdict\u001b[39m], \u001b[38;5;28;01mNone\u001b[39;00m]] \u001b[38;5;241m=\u001b[39m \u001b[38;5;28;01mNone\u001b[39;00m,\n\u001b[0;32m    423\u001b[0m ) \u001b[38;5;241m-\u001b[39m\u001b[38;5;241m>\u001b[39m \u001b[38;5;28;01mNone\u001b[39;00m:\n\u001b[1;32m--> 424\u001b[0m     \u001b[38;5;28;43mself\u001b[39;49m\u001b[38;5;241;43m.\u001b[39;49m\u001b[43m_connect\u001b[49m\u001b[43m(\u001b[49m\u001b[43maccess_mode\u001b[49m\u001b[38;5;241;43m=\u001b[39;49m\u001b[43maccess_mode\u001b[49m\u001b[43m)\u001b[49m\n\u001b[0;32m    425\u001b[0m     \u001b[38;5;28;01massert\u001b[39;00m \u001b[38;5;28mself\u001b[39m\u001b[38;5;241m.\u001b[39m_connection \u001b[38;5;129;01mis\u001b[39;00m \u001b[38;5;129;01mnot\u001b[39;00m \u001b[38;5;28;01mNone\u001b[39;00m\n\u001b[0;32m    426\u001b[0m     \u001b[38;5;28;01mif\u001b[39;00m api \u001b[38;5;129;01mis\u001b[39;00m \u001b[38;5;129;01mnot\u001b[39;00m \u001b[38;5;28;01mNone\u001b[39;00m:\n",
            "File \u001b[1;32mc:\\Users\\Britt\\AppData\\Local\\Programs\\Python\\Python39\\lib\\site-packages\\neo4j\\_sync\\work\\session.py:130\u001b[0m, in \u001b[0;36mSession._connect\u001b[1;34m(self, access_mode, **acquire_kwargs)\u001b[0m\n\u001b[0;32m    128\u001b[0m     access_mode \u001b[38;5;241m=\u001b[39m \u001b[38;5;28mself\u001b[39m\u001b[38;5;241m.\u001b[39m_config\u001b[38;5;241m.\u001b[39mdefault_access_mode\n\u001b[0;32m    129\u001b[0m \u001b[38;5;28;01mtry\u001b[39;00m:\n\u001b[1;32m--> 130\u001b[0m     \u001b[38;5;28msuper\u001b[39m()\u001b[38;5;241m.\u001b[39m_connect(\n\u001b[0;32m    131\u001b[0m         access_mode, auth\u001b[38;5;241m=\u001b[39m\u001b[38;5;28mself\u001b[39m\u001b[38;5;241m.\u001b[39m_config\u001b[38;5;241m.\u001b[39mauth, \u001b[38;5;241m*\u001b[39m\u001b[38;5;241m*\u001b[39macquire_kwargs\n\u001b[0;32m    132\u001b[0m     )\n\u001b[0;32m    133\u001b[0m \u001b[38;5;28;01mexcept\u001b[39;00m asyncio\u001b[38;5;241m.\u001b[39mCancelledError:\n\u001b[0;32m    134\u001b[0m     \u001b[38;5;28mself\u001b[39m\u001b[38;5;241m.\u001b[39m_handle_cancellation(message\u001b[38;5;241m=\u001b[39m\u001b[38;5;124m\"\u001b[39m\u001b[38;5;124m_connect\u001b[39m\u001b[38;5;124m\"\u001b[39m)\n",
            "File \u001b[1;32mc:\\Users\\Britt\\AppData\\Local\\Programs\\Python\\Python39\\lib\\site-packages\\neo4j\\_sync\\work\\workspace.py:182\u001b[0m, in \u001b[0;36mWorkspace._connect\u001b[1;34m(self, access_mode, auth, **acquire_kwargs)\u001b[0m\n\u001b[0;32m    173\u001b[0m acquire_kwargs_ \u001b[38;5;241m=\u001b[39m {\n\u001b[0;32m    174\u001b[0m     \u001b[38;5;124m\"\u001b[39m\u001b[38;5;124maccess_mode\u001b[39m\u001b[38;5;124m\"\u001b[39m: access_mode,\n\u001b[0;32m    175\u001b[0m     \u001b[38;5;124m\"\u001b[39m\u001b[38;5;124mtimeout\u001b[39m\u001b[38;5;124m\"\u001b[39m: acquisition_timeout,\n\u001b[1;32m   (...)\u001b[0m\n\u001b[0;32m    179\u001b[0m     \u001b[38;5;124m\"\u001b[39m\u001b[38;5;124mliveness_check_timeout\u001b[39m\u001b[38;5;124m\"\u001b[39m: \u001b[38;5;28;01mNone\u001b[39;00m,\n\u001b[0;32m    180\u001b[0m }\n\u001b[0;32m    181\u001b[0m acquire_kwargs_\u001b[38;5;241m.\u001b[39mupdate(acquire_kwargs)\n\u001b[1;32m--> 182\u001b[0m \u001b[38;5;28mself\u001b[39m\u001b[38;5;241m.\u001b[39m_connection \u001b[38;5;241m=\u001b[39m \u001b[38;5;28mself\u001b[39m\u001b[38;5;241m.\u001b[39m_pool\u001b[38;5;241m.\u001b[39macquire(\u001b[38;5;241m*\u001b[39m\u001b[38;5;241m*\u001b[39macquire_kwargs_)\n\u001b[0;32m    183\u001b[0m \u001b[38;5;28mself\u001b[39m\u001b[38;5;241m.\u001b[39m_connection_access_mode \u001b[38;5;241m=\u001b[39m access_mode\n",
            "File \u001b[1;32mc:\\Users\\Britt\\AppData\\Local\\Programs\\Python\\Python39\\lib\\site-packages\\neo4j\\_sync\\io\\_pool.py:910\u001b[0m, in \u001b[0;36mNeo4jPool.acquire\u001b[1;34m(self, access_mode, timeout, database, bookmarks, auth, liveness_check_timeout)\u001b[0m\n\u001b[0;32m    903\u001b[0m \u001b[38;5;66;03m#     await self.ensure_routing_table_is_fresh(\u001b[39;00m\n\u001b[0;32m    904\u001b[0m \u001b[38;5;66;03m#         access_mode=access_mode, database=database, imp_user=None,\u001b[39;00m\n\u001b[0;32m    905\u001b[0m \u001b[38;5;66;03m#         bookmarks=bookmarks, acquisition_timeout=timeout\u001b[39;00m\n\u001b[0;32m    906\u001b[0m \u001b[38;5;66;03m#     )\u001b[39;00m\n\u001b[0;32m    908\u001b[0m log\u001b[38;5;241m.\u001b[39mdebug(\u001b[38;5;124m\"\u001b[39m\u001b[38;5;124m[#0000]  _: <POOL> acquire routing connection, \u001b[39m\u001b[38;5;124m\"\u001b[39m\n\u001b[0;32m    909\u001b[0m           \u001b[38;5;124m\"\u001b[39m\u001b[38;5;124maccess_mode=\u001b[39m\u001b[38;5;132;01m%r\u001b[39;00m\u001b[38;5;124m, database=\u001b[39m\u001b[38;5;132;01m%r\u001b[39;00m\u001b[38;5;124m\"\u001b[39m, access_mode, database)\n\u001b[1;32m--> 910\u001b[0m \u001b[38;5;28;43mself\u001b[39;49m\u001b[38;5;241;43m.\u001b[39;49m\u001b[43mensure_routing_table_is_fresh\u001b[49m\u001b[43m(\u001b[49m\n\u001b[0;32m    911\u001b[0m \u001b[43m    \u001b[49m\u001b[43maccess_mode\u001b[49m\u001b[38;5;241;43m=\u001b[39;49m\u001b[43maccess_mode\u001b[49m\u001b[43m,\u001b[49m\u001b[43m \u001b[49m\u001b[43mdatabase\u001b[49m\u001b[38;5;241;43m=\u001b[39;49m\u001b[43mdatabase\u001b[49m\u001b[43m,\u001b[49m\n\u001b[0;32m    912\u001b[0m \u001b[43m    \u001b[49m\u001b[43mimp_user\u001b[49m\u001b[38;5;241;43m=\u001b[39;49m\u001b[38;5;28;43;01mNone\u001b[39;49;00m\u001b[43m,\u001b[49m\u001b[43m \u001b[49m\u001b[43mbookmarks\u001b[49m\u001b[38;5;241;43m=\u001b[39;49m\u001b[43mbookmarks\u001b[49m\u001b[43m,\u001b[49m\u001b[43m \u001b[49m\u001b[43mauth\u001b[49m\u001b[38;5;241;43m=\u001b[39;49m\u001b[43mauth\u001b[49m\u001b[43m,\u001b[49m\n\u001b[0;32m    913\u001b[0m \u001b[43m    \u001b[49m\u001b[43macquisition_timeout\u001b[49m\u001b[38;5;241;43m=\u001b[39;49m\u001b[43mtimeout\u001b[49m\n\u001b[0;32m    914\u001b[0m \u001b[43m\u001b[49m\u001b[43m)\u001b[49m\n\u001b[0;32m    916\u001b[0m \u001b[38;5;28;01mwhile\u001b[39;00m \u001b[38;5;28;01mTrue\u001b[39;00m:\n\u001b[0;32m    917\u001b[0m     \u001b[38;5;28;01mtry\u001b[39;00m:\n\u001b[0;32m    918\u001b[0m         \u001b[38;5;66;03m# Get an address for a connection that have the fewest in-use\u001b[39;00m\n\u001b[0;32m    919\u001b[0m         \u001b[38;5;66;03m# connections.\u001b[39;00m\n",
            "File \u001b[1;32mc:\\Users\\Britt\\AppData\\Local\\Programs\\Python\\Python39\\lib\\site-packages\\neo4j\\_sync\\io\\_pool.py:852\u001b[0m, in \u001b[0;36mNeo4jPool.ensure_routing_table_is_fresh\u001b[1;34m(self, access_mode, database, imp_user, bookmarks, auth, acquisition_timeout, database_callback)\u001b[0m\n\u001b[0;32m    848\u001b[0m     log\u001b[38;5;241m.\u001b[39mdebug(\u001b[38;5;124m\"\u001b[39m\u001b[38;5;124m[#0000]  _: <POOL> using existing routing table \u001b[39m\u001b[38;5;132;01m%r\u001b[39;00m\u001b[38;5;124m\"\u001b[39m,\n\u001b[0;32m    849\u001b[0m               routing_table)\n\u001b[0;32m    850\u001b[0m     \u001b[38;5;28;01mreturn\u001b[39;00m \u001b[38;5;28;01mFalse\u001b[39;00m\n\u001b[1;32m--> 852\u001b[0m \u001b[38;5;28;43mself\u001b[39;49m\u001b[38;5;241;43m.\u001b[39;49m\u001b[43mupdate_routing_table\u001b[49m\u001b[43m(\u001b[49m\n\u001b[0;32m    853\u001b[0m \u001b[43m    \u001b[49m\u001b[43mdatabase\u001b[49m\u001b[38;5;241;43m=\u001b[39;49m\u001b[43mdatabase\u001b[49m\u001b[43m,\u001b[49m\u001b[43m \u001b[49m\u001b[43mimp_user\u001b[49m\u001b[38;5;241;43m=\u001b[39;49m\u001b[43mimp_user\u001b[49m\u001b[43m,\u001b[49m\u001b[43m \u001b[49m\u001b[43mbookmarks\u001b[49m\u001b[38;5;241;43m=\u001b[39;49m\u001b[43mbookmarks\u001b[49m\u001b[43m,\u001b[49m\n\u001b[0;32m    854\u001b[0m \u001b[43m    \u001b[49m\u001b[43mauth\u001b[49m\u001b[38;5;241;43m=\u001b[39;49m\u001b[43mauth\u001b[49m\u001b[43m,\u001b[49m\u001b[43m \u001b[49m\u001b[43macquisition_timeout\u001b[49m\u001b[38;5;241;43m=\u001b[39;49m\u001b[43macquisition_timeout\u001b[49m\u001b[43m,\u001b[49m\n\u001b[0;32m    855\u001b[0m \u001b[43m    \u001b[49m\u001b[43mdatabase_callback\u001b[49m\u001b[38;5;241;43m=\u001b[39;49m\u001b[43mdatabase_callback\u001b[49m\n\u001b[0;32m    856\u001b[0m \u001b[43m\u001b[49m\u001b[43m)\u001b[49m\n\u001b[0;32m    857\u001b[0m \u001b[38;5;28mself\u001b[39m\u001b[38;5;241m.\u001b[39mupdate_connection_pool(database\u001b[38;5;241m=\u001b[39mdatabase)\n\u001b[0;32m    859\u001b[0m \u001b[38;5;28;01mreturn\u001b[39;00m \u001b[38;5;28;01mTrue\u001b[39;00m\n",
            "File \u001b[1;32mc:\\Users\\Britt\\AppData\\Local\\Programs\\Python\\Python39\\lib\\site-packages\\neo4j\\_sync\\io\\_pool.py:774\u001b[0m, in \u001b[0;36mNeo4jPool.update_routing_table\u001b[1;34m(self, database, imp_user, bookmarks, auth, acquisition_timeout, database_callback)\u001b[0m\n\u001b[0;32m    769\u001b[0m prefer_initial_routing_address \u001b[38;5;241m=\u001b[39m \\\n\u001b[0;32m    770\u001b[0m     \u001b[38;5;28mself\u001b[39m\u001b[38;5;241m.\u001b[39mrouting_tables[database]\u001b[38;5;241m.\u001b[39minitialized_without_writers\n\u001b[0;32m    772\u001b[0m \u001b[38;5;28;01mif\u001b[39;00m prefer_initial_routing_address:\n\u001b[0;32m    773\u001b[0m     \u001b[38;5;66;03m# TODO: Test this state\u001b[39;00m\n\u001b[1;32m--> 774\u001b[0m     \u001b[38;5;28;01mif\u001b[39;00m \u001b[38;5;28;43mself\u001b[39;49m\u001b[38;5;241;43m.\u001b[39;49m\u001b[43m_update_routing_table_from\u001b[49m\u001b[43m(\u001b[49m\n\u001b[0;32m    775\u001b[0m \u001b[43m        \u001b[49m\u001b[38;5;28;43mself\u001b[39;49m\u001b[38;5;241;43m.\u001b[39;49m\u001b[43maddress\u001b[49m\u001b[43m,\u001b[49m\u001b[43m \u001b[49m\u001b[43mdatabase\u001b[49m\u001b[38;5;241;43m=\u001b[39;49m\u001b[43mdatabase\u001b[49m\u001b[43m,\u001b[49m\n\u001b[0;32m    776\u001b[0m \u001b[43m        \u001b[49m\u001b[43mimp_user\u001b[49m\u001b[38;5;241;43m=\u001b[39;49m\u001b[43mimp_user\u001b[49m\u001b[43m,\u001b[49m\u001b[43m \u001b[49m\u001b[43mbookmarks\u001b[49m\u001b[38;5;241;43m=\u001b[39;49m\u001b[43mbookmarks\u001b[49m\u001b[43m,\u001b[49m\u001b[43m \u001b[49m\u001b[43mauth\u001b[49m\u001b[38;5;241;43m=\u001b[39;49m\u001b[43mauth\u001b[49m\u001b[43m,\u001b[49m\n\u001b[0;32m    777\u001b[0m \u001b[43m        \u001b[49m\u001b[43macquisition_timeout\u001b[49m\u001b[38;5;241;43m=\u001b[39;49m\u001b[43macquisition_timeout\u001b[49m\u001b[43m,\u001b[49m\n\u001b[0;32m    778\u001b[0m \u001b[43m        \u001b[49m\u001b[43mdatabase_callback\u001b[49m\u001b[38;5;241;43m=\u001b[39;49m\u001b[43mdatabase_callback\u001b[49m\n\u001b[0;32m    779\u001b[0m \u001b[43m    \u001b[49m\u001b[43m)\u001b[49m:\n\u001b[0;32m    780\u001b[0m         \u001b[38;5;66;03m# Why is only the first initial routing address used?\u001b[39;00m\n\u001b[0;32m    781\u001b[0m         \u001b[38;5;28;01mreturn\u001b[39;00m\n\u001b[0;32m    782\u001b[0m \u001b[38;5;28;01mif\u001b[39;00m \u001b[38;5;28mself\u001b[39m\u001b[38;5;241m.\u001b[39m_update_routing_table_from(\n\u001b[0;32m    783\u001b[0m     \u001b[38;5;241m*\u001b[39m(existing_routers \u001b[38;5;241m-\u001b[39m {\u001b[38;5;28mself\u001b[39m\u001b[38;5;241m.\u001b[39maddress}), database\u001b[38;5;241m=\u001b[39mdatabase,\n\u001b[0;32m    784\u001b[0m     imp_user\u001b[38;5;241m=\u001b[39mimp_user, bookmarks\u001b[38;5;241m=\u001b[39mbookmarks, auth\u001b[38;5;241m=\u001b[39mauth,\n\u001b[0;32m    785\u001b[0m     acquisition_timeout\u001b[38;5;241m=\u001b[39macquisition_timeout,\n\u001b[0;32m    786\u001b[0m     database_callback\u001b[38;5;241m=\u001b[39mdatabase_callback\n\u001b[0;32m    787\u001b[0m ):\n",
            "File \u001b[1;32mc:\\Users\\Britt\\AppData\\Local\\Programs\\Python\\Python39\\lib\\site-packages\\neo4j\\_sync\\io\\_pool.py:720\u001b[0m, in \u001b[0;36mNeo4jPool._update_routing_table_from\u001b[1;34m(self, database, imp_user, bookmarks, auth, acquisition_timeout, database_callback, *routers)\u001b[0m\n\u001b[0;32m    716\u001b[0m \u001b[38;5;28;01mfor\u001b[39;00m router \u001b[38;5;129;01min\u001b[39;00m routers:\n\u001b[0;32m    717\u001b[0m     \u001b[38;5;28;01mfor\u001b[39;00m address \u001b[38;5;129;01min\u001b[39;00m NetworkUtil\u001b[38;5;241m.\u001b[39mresolve_address(\n\u001b[0;32m    718\u001b[0m         router, resolver\u001b[38;5;241m=\u001b[39m\u001b[38;5;28mself\u001b[39m\u001b[38;5;241m.\u001b[39mpool_config\u001b[38;5;241m.\u001b[39mresolver\n\u001b[0;32m    719\u001b[0m     ):\n\u001b[1;32m--> 720\u001b[0m         new_routing_table \u001b[38;5;241m=\u001b[39m \u001b[38;5;28;43mself\u001b[39;49m\u001b[38;5;241;43m.\u001b[39;49m\u001b[43mfetch_routing_table\u001b[49m\u001b[43m(\u001b[49m\n\u001b[0;32m    721\u001b[0m \u001b[43m            \u001b[49m\u001b[43maddress\u001b[49m\u001b[38;5;241;43m=\u001b[39;49m\u001b[43maddress\u001b[49m\u001b[43m,\u001b[49m\u001b[43m \u001b[49m\u001b[43macquisition_timeout\u001b[49m\u001b[38;5;241;43m=\u001b[39;49m\u001b[43macquisition_timeout\u001b[49m\u001b[43m,\u001b[49m\n\u001b[0;32m    722\u001b[0m \u001b[43m            \u001b[49m\u001b[43mdatabase\u001b[49m\u001b[38;5;241;43m=\u001b[39;49m\u001b[43mdatabase\u001b[49m\u001b[43m,\u001b[49m\u001b[43m \u001b[49m\u001b[43mimp_user\u001b[49m\u001b[38;5;241;43m=\u001b[39;49m\u001b[43mimp_user\u001b[49m\u001b[43m,\u001b[49m\u001b[43m \u001b[49m\u001b[43mbookmarks\u001b[49m\u001b[38;5;241;43m=\u001b[39;49m\u001b[43mbookmarks\u001b[49m\u001b[43m,\u001b[49m\n\u001b[0;32m    723\u001b[0m \u001b[43m            \u001b[49m\u001b[43mauth\u001b[49m\u001b[38;5;241;43m=\u001b[39;49m\u001b[43mauth\u001b[49m\n\u001b[0;32m    724\u001b[0m \u001b[43m        \u001b[49m\u001b[43m)\u001b[49m\n\u001b[0;32m    725\u001b[0m         \u001b[38;5;28;01mif\u001b[39;00m new_routing_table \u001b[38;5;129;01mis\u001b[39;00m \u001b[38;5;129;01mnot\u001b[39;00m \u001b[38;5;28;01mNone\u001b[39;00m:\n\u001b[0;32m    726\u001b[0m             new_database \u001b[38;5;241m=\u001b[39m new_routing_table\u001b[38;5;241m.\u001b[39mdatabase\n",
            "File \u001b[1;32mc:\\Users\\Britt\\AppData\\Local\\Programs\\Python\\Python39\\lib\\site-packages\\neo4j\\_sync\\io\\_pool.py:657\u001b[0m, in \u001b[0;36mNeo4jPool.fetch_routing_table\u001b[1;34m(self, address, acquisition_timeout, database, imp_user, bookmarks, auth)\u001b[0m\n\u001b[0;32m    655\u001b[0m new_routing_info \u001b[38;5;241m=\u001b[39m \u001b[38;5;28;01mNone\u001b[39;00m\n\u001b[0;32m    656\u001b[0m \u001b[38;5;28;01mtry\u001b[39;00m:\n\u001b[1;32m--> 657\u001b[0m     new_routing_info \u001b[38;5;241m=\u001b[39m \u001b[38;5;28;43mself\u001b[39;49m\u001b[38;5;241;43m.\u001b[39;49m\u001b[43mfetch_routing_info\u001b[49m\u001b[43m(\u001b[49m\n\u001b[0;32m    658\u001b[0m \u001b[43m        \u001b[49m\u001b[43maddress\u001b[49m\u001b[43m,\u001b[49m\u001b[43m \u001b[49m\u001b[43mdatabase\u001b[49m\u001b[43m,\u001b[49m\u001b[43m \u001b[49m\u001b[43mimp_user\u001b[49m\u001b[43m,\u001b[49m\u001b[43m \u001b[49m\u001b[43mbookmarks\u001b[49m\u001b[43m,\u001b[49m\u001b[43m \u001b[49m\u001b[43mauth\u001b[49m\u001b[43m,\u001b[49m\n\u001b[0;32m    659\u001b[0m \u001b[43m        \u001b[49m\u001b[43macquisition_timeout\u001b[49m\n\u001b[0;32m    660\u001b[0m \u001b[43m    \u001b[49m\u001b[43m)\u001b[49m\n\u001b[0;32m    661\u001b[0m \u001b[38;5;28;01mexcept\u001b[39;00m Neo4jError \u001b[38;5;28;01mas\u001b[39;00m e:\n\u001b[0;32m    662\u001b[0m     \u001b[38;5;66;03m# checks if the code is an error that is caused by the client. In\u001b[39;00m\n\u001b[0;32m    663\u001b[0m     \u001b[38;5;66;03m# this case there is no sense in trying to fetch a RT from another\u001b[39;00m\n\u001b[0;32m    664\u001b[0m     \u001b[38;5;66;03m# router. Hence, the driver should fail fast during discovery.\u001b[39;00m\n\u001b[0;32m    665\u001b[0m     \u001b[38;5;28;01mif\u001b[39;00m e\u001b[38;5;241m.\u001b[39m_is_fatal_during_discovery():\n",
            "File \u001b[1;32mc:\\Users\\Britt\\AppData\\Local\\Programs\\Python\\Python39\\lib\\site-packages\\neo4j\\_sync\\io\\_pool.py:627\u001b[0m, in \u001b[0;36mNeo4jPool.fetch_routing_info\u001b[1;34m(self, address, database, imp_user, bookmarks, auth, acquisition_timeout)\u001b[0m\n\u001b[0;32m    625\u001b[0m cx \u001b[38;5;241m=\u001b[39m \u001b[38;5;28mself\u001b[39m\u001b[38;5;241m.\u001b[39m_acquire(address, auth, deadline, \u001b[38;5;28;01mNone\u001b[39;00m)\n\u001b[0;32m    626\u001b[0m \u001b[38;5;28;01mtry\u001b[39;00m:\n\u001b[1;32m--> 627\u001b[0m     routing_table \u001b[38;5;241m=\u001b[39m \u001b[43mcx\u001b[49m\u001b[38;5;241;43m.\u001b[39;49m\u001b[43mroute\u001b[49m\u001b[43m(\u001b[49m\n\u001b[0;32m    628\u001b[0m \u001b[43m        \u001b[49m\u001b[43mdatabase\u001b[49m\u001b[38;5;241;43m=\u001b[39;49m\u001b[43mdatabase\u001b[49m\u001b[43m \u001b[49m\u001b[38;5;129;43;01mor\u001b[39;49;00m\u001b[43m \u001b[49m\u001b[38;5;28;43mself\u001b[39;49m\u001b[38;5;241;43m.\u001b[39;49m\u001b[43mworkspace_config\u001b[49m\u001b[38;5;241;43m.\u001b[39;49m\u001b[43mdatabase\u001b[49m\u001b[43m,\u001b[49m\n\u001b[0;32m    629\u001b[0m \u001b[43m        \u001b[49m\u001b[43mimp_user\u001b[49m\u001b[38;5;241;43m=\u001b[39;49m\u001b[43mimp_user\u001b[49m\u001b[43m \u001b[49m\u001b[38;5;129;43;01mor\u001b[39;49;00m\u001b[43m \u001b[49m\u001b[38;5;28;43mself\u001b[39;49m\u001b[38;5;241;43m.\u001b[39;49m\u001b[43mworkspace_config\u001b[49m\u001b[38;5;241;43m.\u001b[39;49m\u001b[43mimpersonated_user\u001b[49m\u001b[43m,\u001b[49m\n\u001b[0;32m    630\u001b[0m \u001b[43m        \u001b[49m\u001b[43mbookmarks\u001b[49m\u001b[38;5;241;43m=\u001b[39;49m\u001b[43mbookmarks\u001b[49m\n\u001b[0;32m    631\u001b[0m \u001b[43m    \u001b[49m\u001b[43m)\u001b[49m\n\u001b[0;32m    632\u001b[0m \u001b[38;5;28;01mfinally\u001b[39;00m:\n\u001b[0;32m    633\u001b[0m     \u001b[38;5;28mself\u001b[39m\u001b[38;5;241m.\u001b[39mrelease(cx)\n",
            "File \u001b[1;32mc:\\Users\\Britt\\AppData\\Local\\Programs\\Python\\Python39\\lib\\site-packages\\neo4j\\_sync\\io\\_bolt5.py:197\u001b[0m, in \u001b[0;36mBolt5x0.route\u001b[1;34m(self, database, imp_user, bookmarks, dehydration_hooks, hydration_hooks)\u001b[0m\n\u001b[0;32m    192\u001b[0m \u001b[38;5;28mself\u001b[39m\u001b[38;5;241m.\u001b[39m_append(\u001b[38;5;124mb\u001b[39m\u001b[38;5;124m\"\u001b[39m\u001b[38;5;130;01m\\x66\u001b[39;00m\u001b[38;5;124m\"\u001b[39m, (routing_context, bookmarks, db_context),\n\u001b[0;32m    193\u001b[0m              response\u001b[38;5;241m=\u001b[39mResponse(\u001b[38;5;28mself\u001b[39m, \u001b[38;5;124m\"\u001b[39m\u001b[38;5;124mroute\u001b[39m\u001b[38;5;124m\"\u001b[39m, hydration_hooks,\n\u001b[0;32m    194\u001b[0m                                on_success\u001b[38;5;241m=\u001b[39mmetadata\u001b[38;5;241m.\u001b[39mupdate),\n\u001b[0;32m    195\u001b[0m              dehydration_hooks\u001b[38;5;241m=\u001b[39mhydration_hooks)\n\u001b[0;32m    196\u001b[0m \u001b[38;5;28mself\u001b[39m\u001b[38;5;241m.\u001b[39msend_all()\n\u001b[1;32m--> 197\u001b[0m \u001b[38;5;28;43mself\u001b[39;49m\u001b[38;5;241;43m.\u001b[39;49m\u001b[43mfetch_all\u001b[49m\u001b[43m(\u001b[49m\u001b[43m)\u001b[49m\n\u001b[0;32m    198\u001b[0m \u001b[38;5;28;01mreturn\u001b[39;00m [metadata\u001b[38;5;241m.\u001b[39mget(\u001b[38;5;124m\"\u001b[39m\u001b[38;5;124mrt\u001b[39m\u001b[38;5;124m\"\u001b[39m)]\n",
            "File \u001b[1;32mc:\\Users\\Britt\\AppData\\Local\\Programs\\Python\\Python39\\lib\\site-packages\\neo4j\\_sync\\io\\_bolt.py:874\u001b[0m, in \u001b[0;36mBolt.fetch_all\u001b[1;34m(self)\u001b[0m\n\u001b[0;32m    872\u001b[0m response \u001b[38;5;241m=\u001b[39m \u001b[38;5;28mself\u001b[39m\u001b[38;5;241m.\u001b[39mresponses[\u001b[38;5;241m0\u001b[39m]\n\u001b[0;32m    873\u001b[0m \u001b[38;5;28;01mwhile\u001b[39;00m \u001b[38;5;129;01mnot\u001b[39;00m response\u001b[38;5;241m.\u001b[39mcomplete:\n\u001b[1;32m--> 874\u001b[0m     detail_delta, summary_delta \u001b[38;5;241m=\u001b[39m \u001b[38;5;28;43mself\u001b[39;49m\u001b[38;5;241;43m.\u001b[39;49m\u001b[43mfetch_message\u001b[49m\u001b[43m(\u001b[49m\u001b[43m)\u001b[49m\n\u001b[0;32m    875\u001b[0m     detail_count \u001b[38;5;241m+\u001b[39m\u001b[38;5;241m=\u001b[39m detail_delta\n\u001b[0;32m    876\u001b[0m     summary_count \u001b[38;5;241m+\u001b[39m\u001b[38;5;241m=\u001b[39m summary_delta\n",
            "File \u001b[1;32mc:\\Users\\Britt\\AppData\\Local\\Programs\\Python\\Python39\\lib\\site-packages\\neo4j\\_sync\\io\\_bolt.py:860\u001b[0m, in \u001b[0;36mBolt.fetch_message\u001b[1;34m(self)\u001b[0m\n\u001b[0;32m    856\u001b[0m \u001b[38;5;66;03m# Receive exactly one message\u001b[39;00m\n\u001b[0;32m    857\u001b[0m tag, fields \u001b[38;5;241m=\u001b[39m \u001b[38;5;28mself\u001b[39m\u001b[38;5;241m.\u001b[39minbox\u001b[38;5;241m.\u001b[39mpop(\n\u001b[0;32m    858\u001b[0m     hydration_hooks\u001b[38;5;241m=\u001b[39m\u001b[38;5;28mself\u001b[39m\u001b[38;5;241m.\u001b[39mresponses[\u001b[38;5;241m0\u001b[39m]\u001b[38;5;241m.\u001b[39mhydration_hooks\n\u001b[0;32m    859\u001b[0m )\n\u001b[1;32m--> 860\u001b[0m res \u001b[38;5;241m=\u001b[39m \u001b[38;5;28;43mself\u001b[39;49m\u001b[38;5;241;43m.\u001b[39;49m\u001b[43m_process_message\u001b[49m\u001b[43m(\u001b[49m\u001b[43mtag\u001b[49m\u001b[43m,\u001b[49m\u001b[43m \u001b[49m\u001b[43mfields\u001b[49m\u001b[43m)\u001b[49m\n\u001b[0;32m    861\u001b[0m \u001b[38;5;28mself\u001b[39m\u001b[38;5;241m.\u001b[39midle_since \u001b[38;5;241m=\u001b[39m monotonic()\n\u001b[0;32m    862\u001b[0m \u001b[38;5;28;01mreturn\u001b[39;00m res\n",
            "File \u001b[1;32mc:\\Users\\Britt\\AppData\\Local\\Programs\\Python\\Python39\\lib\\site-packages\\neo4j\\_sync\\io\\_bolt5.py:370\u001b[0m, in \u001b[0;36mBolt5x0._process_message\u001b[1;34m(self, tag, fields)\u001b[0m\n\u001b[0;32m    368\u001b[0m \u001b[38;5;28mself\u001b[39m\u001b[38;5;241m.\u001b[39m_server_state_manager\u001b[38;5;241m.\u001b[39mstate \u001b[38;5;241m=\u001b[39m \u001b[38;5;28mself\u001b[39m\u001b[38;5;241m.\u001b[39mbolt_states\u001b[38;5;241m.\u001b[39mFAILED\n\u001b[0;32m    369\u001b[0m \u001b[38;5;28;01mtry\u001b[39;00m:\n\u001b[1;32m--> 370\u001b[0m     \u001b[43mresponse\u001b[49m\u001b[38;5;241;43m.\u001b[39;49m\u001b[43mon_failure\u001b[49m\u001b[43m(\u001b[49m\u001b[43msummary_metadata\u001b[49m\u001b[43m \u001b[49m\u001b[38;5;129;43;01mor\u001b[39;49;00m\u001b[43m \u001b[49m\u001b[43m{\u001b[49m\u001b[43m}\u001b[49m\u001b[43m)\u001b[49m\n\u001b[0;32m    371\u001b[0m \u001b[38;5;28;01mexcept\u001b[39;00m (ServiceUnavailable, DatabaseUnavailable):\n\u001b[0;32m    372\u001b[0m     \u001b[38;5;28;01mif\u001b[39;00m \u001b[38;5;28mself\u001b[39m\u001b[38;5;241m.\u001b[39mpool:\n",
            "File \u001b[1;32mc:\\Users\\Britt\\AppData\\Local\\Programs\\Python\\Python39\\lib\\site-packages\\neo4j\\_sync\\io\\_common.py:245\u001b[0m, in \u001b[0;36mResponse.on_failure\u001b[1;34m(self, metadata)\u001b[0m\n\u001b[0;32m    243\u001b[0m handler \u001b[38;5;241m=\u001b[39m \u001b[38;5;28mself\u001b[39m\u001b[38;5;241m.\u001b[39mhandlers\u001b[38;5;241m.\u001b[39mget(\u001b[38;5;124m\"\u001b[39m\u001b[38;5;124mon_summary\u001b[39m\u001b[38;5;124m\"\u001b[39m)\n\u001b[0;32m    244\u001b[0m Util\u001b[38;5;241m.\u001b[39mcallback(handler)\n\u001b[1;32m--> 245\u001b[0m \u001b[38;5;28;01mraise\u001b[39;00m Neo4jError\u001b[38;5;241m.\u001b[39mhydrate(\u001b[38;5;241m*\u001b[39m\u001b[38;5;241m*\u001b[39mmetadata)\n",
            "\u001b[1;31mClientError\u001b[0m: {code: Neo.ClientError.Database.DatabaseNotFound} {message: Unable to get a routing table for database '5ba77883' because this database does not exist}"
          ]
        }
      ],
      "source": [
        "for q in cypher_import.keys():\n",
        "  print(\"about to import \" + q + \" from file \" + railMappings[q][\"@fileName\"])\n",
        "  df = pd.read_csv(railMappings[q][\"@fileName\"])\n",
        "  result = insert_data(session, cypher_import[q], df, batch_size = 300) \n",
        "  print(result)\n",
        "  \n",
        "  \n",
        "  #load csv from 'file:///artists.csv' AS row\n",
        "  #LOAD CSV from railMappings[q][\"@fileName\"] AS row\n",
        "  \n",
        "  \n",
        "  #print(\"How do you create a data_frame from a .csv file?\")\n",
        "  #insert_data(session, cypher_import[q], data_frame, batch_size=300)"
      ]
    },
    {
      "cell_type": "code",
      "execution_count": 183,
      "metadata": {},
      "outputs": [
        {
          "name": "stdout",
          "output_type": "stream",
          "text": [
            "Closing session and driver\n"
          ]
        }
      ],
      "source": [
        "print(\"Closing session and driver\")\n",
        "session.close()\n",
        "driver.close()"
      ]
    },
    {
      "cell_type": "code",
      "execution_count": 47,
      "metadata": {
        "id": "W2b4j854JkAO"
      },
      "outputs": [
        {
          "ename": "ModuleNotFoundError",
          "evalue": "No module named 'pandas'",
          "output_type": "error",
          "traceback": [
            "\u001b[1;31m---------------------------------------------------------------------------\u001b[0m",
            "\u001b[1;31mModuleNotFoundError\u001b[0m                       Traceback (most recent call last)",
            "Cell \u001b[1;32mIn[47], line 1\u001b[0m\n\u001b[1;32m----> 1\u001b[0m \u001b[38;5;28;01mimport\u001b[39;00m \u001b[38;5;21;01mpandas\u001b[39;00m \u001b[38;5;28;01mas\u001b[39;00m \u001b[38;5;21;01mpd\u001b[39;00m\n\u001b[0;32m      2\u001b[0m \u001b[38;5;28;01mfrom\u001b[39;00m \u001b[38;5;21;01mneo4j\u001b[39;00m \u001b[38;5;28;01mimport\u001b[39;00m GraphDatabase, basic_auth\n\u001b[0;32m      4\u001b[0m driver \u001b[38;5;241m=\u001b[39m GraphDatabase\u001b[38;5;241m.\u001b[39mdriver(\n\u001b[0;32m      5\u001b[0m   \u001b[38;5;124m\"\u001b[39m\u001b[38;5;124mbolt://3.84.57.61:7687\u001b[39m\u001b[38;5;124m\"\u001b[39m,\n\u001b[0;32m      6\u001b[0m   auth\u001b[38;5;241m=\u001b[39mbasic_auth(\u001b[38;5;124m\"\u001b[39m\u001b[38;5;124mneo4j\u001b[39m\u001b[38;5;124m\"\u001b[39m, \u001b[38;5;124m\"\u001b[39m\u001b[38;5;124msouth-kettles-harmony\u001b[39m\u001b[38;5;124m\"\u001b[39m))\n",
            "\u001b[1;31mModuleNotFoundError\u001b[0m: No module named 'pandas'"
          ]
        }
      ],
      "source": [
        "print(\"Connect to a neo4j sandbox\")\n",
        "driver = GraphDatabase.driver(\n",
        "  \"bolt://3.84.57.61:7687\",\n",
        "  auth=basic_auth(\"neo4j\", \"south-kettles-harmony\"))\n",
        "\n",
        "session = driver.session(database=\"neo4j\")\n",
        "\n",
        "#cypher_import , mapping_defs = getLoadersFromOnto(onto,\"turtle\",railMappings)\n",
        "\n",
        "for q in cypher_import.keys():\n",
        "  print(\"about to import \" + q + \" from file \" + railMappings[q][\"@fileName\"])\n",
        "  df = pd.read_csv(railMappings[q][\"@fileName\"])\n",
        "  result = insert_data(session, cypher_import[q], df, batch_size = 300) \n",
        "  print(result)\n",
        "\n",
        "for md in mapping_defs:\n",
        "  session.run(md)\n",
        "  "
      ]
    }
  ],
  "metadata": {
    "colab": {
      "authorship_tag": "ABX9TyPa90V5qw4Hy/CLydkkxIwD",
      "collapsed_sections": [],
      "include_colab_link": true,
      "name": "Ontology Driven KG creation",
      "provenance": []
    },
    "kernelspec": {
      "display_name": "Python 3",
      "name": "python3"
    },
    "language_info": {
      "codemirror_mode": {
        "name": "ipython",
        "version": 3
      },
      "file_extension": ".py",
      "mimetype": "text/x-python",
      "name": "python",
      "nbconvert_exporter": "python",
      "pygments_lexer": "ipython3",
      "version": "3.9.13"
    }
  },
  "nbformat": 4,
  "nbformat_minor": 0
}
